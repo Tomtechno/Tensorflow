{
  "cells": [
    {
      "cell_type": "markdown",
      "metadata": {
        "id": "7NuxpbLbD2rh"
      },
      "source": [
        "<a target=\"_blank\" href=\"https://colab.research.google.com/github/IngCarlaPezzone/tensorflow-1-public/blob/main/C1/W3/assignment/C1W3_Assignment_traduccion.ipynb\">\n",
        "  <img src=\"https://colab.research.google.com/assets/colab-badge.svg\" alt=\"Open In Colab\"/>\n",
        "</a>"
      ]
    },
    {
      "cell_type": "code",
      "execution_count": 1,
      "metadata": {
        "id": "ZpztRwBouwYp",
        "tags": [
          "graded"
        ]
      },
      "outputs": [],
      "source": [
        "import os\n",
        "import numpy as np\n",
        "import tensorflow as tf\n",
        "from tensorflow import keras"
      ]
    },
    {
      "cell_type": "code",
      "execution_count": 2,
      "metadata": {
        "tags": [
          "graded"
        ],
        "id": "kY5l7wYfD2ro",
        "colab": {
          "base_uri": "https://localhost:8080/"
        },
        "outputId": "b13c9ec3-6b96-4cc0-db0b-de122775f229"
      },
      "outputs": [
        {
          "output_type": "stream",
          "name": "stdout",
          "text": [
            "Downloading data from https://storage.googleapis.com/tensorflow/tf-keras-datasets/mnist.npz\n",
            "11490434/11490434 [==============================] - 0s 0us/step\n"
          ]
        }
      ],
      "source": [
        "# Load the data\n",
        "\n",
        "# Get current working directory\n",
        "current_dir = os.getcwd() \n",
        "\n",
        "# Append data/mnist.npz to the previous path to get the full path\n",
        "data_path = os.path.join(current_dir, \"/content/mnist.npz\") \n",
        "\n",
        "(training_images, training_labels), _ = tf.keras.datasets.mnist.load_data(path=data_path) "
      ]
    },
    {
      "cell_type": "code",
      "execution_count": 3,
      "metadata": {
        "tags": [
          "graded"
        ],
        "id": "sWFmnEt8D2rq"
      },
      "outputs": [],
      "source": [
        "def reshape_and_normalize(images):\n",
        "    # Reshape the images to add an extra dimension\n",
        "    images = images.reshape(60000, 28,28,1)\n",
        "    images = images / 255.\n",
        "    return images"
      ]
    },
    {
      "cell_type": "code",
      "execution_count": 4,
      "metadata": {
        "tags": [
          "graded"
        ],
        "id": "qhgD2g3mD2rr",
        "colab": {
          "base_uri": "https://localhost:8080/"
        },
        "outputId": "0aaacfd6-1bcf-4e92-ddeb-59493b71c1d2"
      },
      "outputs": [
        {
          "output_type": "stream",
          "name": "stdout",
          "text": [
            "Maximum pixel value after normalization: 1.0\n",
            "\n",
            "Shape of training set after reshaping: (60000, 28, 28, 1)\n",
            "\n",
            "Shape of one image after reshaping: (28, 28, 1)\n"
          ]
        }
      ],
      "source": [
        "# Reload the images in case you run this cell multiple times\n",
        "(training_images, _), _ = tf.keras.datasets.mnist.load_data(path=data_path) \n",
        "\n",
        "# Apply your function\n",
        "training_images = reshape_and_normalize(training_images)\n",
        "\n",
        "print(f\"Maximum pixel value after normalization: {np.max(training_images)}\\n\")\n",
        "print(f\"Shape of training set after reshaping: {training_images.shape}\\n\")\n",
        "print(f\"Shape of one image after reshaping: {training_images[0].shape}\")"
      ]
    },
    {
      "cell_type": "code",
      "execution_count": 5,
      "metadata": {
        "tags": [
          "graded"
        ],
        "id": "HMrIASG_D2rs"
      },
      "outputs": [],
      "source": [
        "class myCallback(tf.keras.callbacks.Callback):\n",
        "    def on_epoch_end(self, epoch, logs={}):\n",
        "        if(logs.get('accuracy')>0.995): \n",
        "          print(\"\\n99.5% accuracy reached!\")\n",
        "          self.model.stop_training = True"
      ]
    },
    {
      "cell_type": "code",
      "source": [
        "def convolutional_model():\n",
        "\n",
        "    model = tf.keras.models.Sequential([ \n",
        "      tf.keras.layers.Conv2D(32, (3,3), activation='relu', input_shape=(28, 28, 1)),\n",
        "      tf.keras.layers.MaxPooling2D(2, 2),\n",
        "      tf.keras.layers.Conv2D(32, (3,3), activation='relu'),\n",
        "      tf.keras.layers.MaxPooling2D(2, 2),\n",
        "      tf.keras.layers.Flatten(),\n",
        "      tf.keras.layers.Dense(128, activation='relu'),\n",
        "      tf.keras.layers.Dense(10, activation='softmax'),\n",
        "    ]) \n",
        "\n",
        "    model.compile(optimizer='adam', \n",
        "                  loss='sparse_categorical_crossentropy', \n",
        "                  metrics=['accuracy']) \n",
        "    return model"
      ],
      "metadata": {
        "id": "YEA-4nFTHPzh"
      },
      "execution_count": 16,
      "outputs": []
    },
    {
      "cell_type": "code",
      "execution_count": 17,
      "metadata": {
        "tags": [
          "graded"
        ],
        "id": "3-D7nQOLD2rt",
        "colab": {
          "base_uri": "https://localhost:8080/"
        },
        "outputId": "9f461954-3b27-4bc5-928d-1a35b383f18a"
      },
      "outputs": [
        {
          "output_type": "stream",
          "name": "stdout",
          "text": [
            "Epoch 1/10\n",
            "1875/1875 [==============================] - 6s 3ms/step - loss: 0.1489 - accuracy: 0.9543\n",
            "Epoch 2/10\n",
            "1875/1875 [==============================] - 6s 3ms/step - loss: 0.0489 - accuracy: 0.9844\n",
            "Epoch 3/10\n",
            "1875/1875 [==============================] - 6s 3ms/step - loss: 0.0346 - accuracy: 0.9893\n",
            "Epoch 4/10\n",
            "1875/1875 [==============================] - 6s 3ms/step - loss: 0.0253 - accuracy: 0.9917\n",
            "Epoch 5/10\n",
            "1875/1875 [==============================] - 6s 3ms/step - loss: 0.0190 - accuracy: 0.9939\n",
            "Epoch 6/10\n",
            "1862/1875 [============================>.] - ETA: 0s - loss: 0.0146 - accuracy: 0.9950\n",
            "99.5% accuracy reached!\n",
            "1875/1875 [==============================] - 6s 3ms/step - loss: 0.0145 - accuracy: 0.9950\n"
          ]
        }
      ],
      "source": [
        "# Save model\n",
        "model = convolutional_model()\n",
        "callbacks = myCallback()\n",
        "history = model.fit(training_images, training_labels, epochs=10, callbacks=[callbacks])"
      ]
    }
  ],
  "metadata": {
    "jupytext": {
      "main_language": "python"
    },
    "kernelspec": {
      "display_name": "Python 3",
      "language": "python",
      "name": "python3"
    },
    "language_info": {
      "codemirror_mode": {
        "name": "ipython",
        "version": 3
      },
      "file_extension": ".py",
      "mimetype": "text/x-python",
      "name": "python",
      "nbconvert_exporter": "python",
      "pygments_lexer": "ipython3",
      "version": "3.7.3"
    },
    "colab": {
      "provenance": [],
      "collapsed_sections": []
    },
    "accelerator": "GPU",
    "gpuClass": "standard"
  },
  "nbformat": 4,
  "nbformat_minor": 0
}