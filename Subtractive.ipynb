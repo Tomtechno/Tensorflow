{
  "cells": [
    {
      "cell_type": "code",
      "execution_count": null,
      "metadata": {
        "id": "nyCGXFk5S-Tc"
      },
      "outputs": [],
      "source": [
        "\"\"\"Subtractive Clustering Algorithm\n",
        "\"\"\"\n",
        "__author__ = 'Daniel Albornoz'\n",
        "\n",
        "\n",
        "import numpy as np\n",
        "import matplotlib.pyplot as plt\n",
        "from sklearn.preprocessing import MinMaxScaler\n",
        "from scipy.spatial import distance_matrix\n",
        "\n",
        "def subclust2(data, Ra, Rb=0, AcceptRatio=0.3, RejectRatio=0.1):\n",
        "    if Rb==0:\n",
        "        Rb = Ra*1.15\n",
        "        \n",
        "    scaler = MinMaxScaler()\n",
        "    scaler.fit(data) \n",
        "    ndata = scaler.transform(data)\n",
        "    \n",
        "    # 14/05/2020 cambio list comprehensions por distance matrix\n",
        "    #P = np.array([np.sum([np.exp(-(np.linalg.norm(u-v)**2)/(Ra/2)**2) for v in ndata]) for u in ndata])\n",
        "    #print(P)\n",
        "    P = distance_matrix(ndata,ndata)\n",
        "    alpha=(Ra/2)**2\n",
        "    P = np.sum(np.exp(-P**2/alpha),axis=0)\n",
        "   \n",
        "    centers = []\n",
        "    i=np.argmax(P)\n",
        "    C = ndata[i]\n",
        "    p=P[i]\n",
        "    centers = [C]\n",
        "    \n",
        "    continuar=True\n",
        "    restarP = True\n",
        "    while continuar:\n",
        "        pAnt = p\n",
        "        if restarP:\n",
        "            P=P-p*np.array([np.exp(-np.linalg.norm(v-C)**2/(Rb/2)**2) for v in ndata])            \n",
        "        restarP = True  \n",
        "        i=np.argmax(P)\n",
        "        C = ndata[i]\n",
        "        p=P[i]\n",
        "        if p>AcceptRatio*pAnt:\n",
        "            centers = np.vstack((centers,C))\n",
        "        elif p<RejectRatio*pAnt:\n",
        "            continuar=False\n",
        "        else: \n",
        "            dr = np.min([np.linalg.norm(v-C) for v in centers])\n",
        "            if dr/Ra+p/pAnt>=1:\n",
        "                centers = np.vstack((centers,C))\n",
        "            else:\n",
        "                P[i]=0\n",
        "                restarP = False\n",
        "        if not any(v>0 for v in P):\n",
        "            continuar = False\n",
        "    distancias = [[np.linalg.norm(p-c) for p in ndata] for c in centers]\n",
        "    labels = np.argmin(distancias, axis=0)\n",
        "    centers = scaler.inverse_transform(centers)\n",
        "    return labels, centers\n",
        "\n"
      ]
    },
    {
      "cell_type": "code",
      "execution_count": null,
      "metadata": {
        "id": "izxJ-gC5S-Td"
      },
      "outputs": [],
      "source": [
        "# -*- coding: utf-8 -*-\n",
        "\"\"\"\n",
        "Created on Wed May  6 17:56:16 2020\n",
        "\n",
        "@author: Daniel Albornoz\n",
        "\n",
        "Implementación similar a genfis2 de Matlab.\n",
        "Sugeno type FIS. Generado a partir de clustering substractivo.\n",
        "\n",
        "\"\"\"\n",
        "__author__ = 'Daniel Albornoz'\n",
        "\n",
        "import numpy as np\n",
        "import matplotlib.pyplot as plt\n",
        "import pandas as pd\n",
        "from sklearn.preprocessing import MinMaxScaler\n",
        "import time\n",
        "\n",
        "def gaussmf(data, mean, sigma):\n",
        "    return np.exp(-((data - mean)**2.) / (2 * sigma**2.))\n",
        "    \n",
        "class fisRule:\n",
        "    def __init__(self, centroid, sigma):\n",
        "        self.centroid = centroid\n",
        "        self.sigma = sigma\n",
        "    \n",
        "class fisInput:\n",
        "    def __init__(self, min,max, centroids):\n",
        "        self.minValue = min\n",
        "        self.maxValue = max\n",
        "        self.centroids = centroids\n",
        "\n",
        "    \n",
        "    def view(self):\n",
        "        x = np.linspace(self.minValue,self.maxValue,20)\n",
        "        plt.figure()\n",
        "        for m in self.centroids:\n",
        "            s = (self.minValue-self.maxValue)/8**0.5\n",
        "            y = gaussmf(x,m,s)\n",
        "            plt.plot(x,y)\n",
        "        \n",
        "class fis:\n",
        "    def __init__(self):\n",
        "        self.rules=[]\n",
        "        self.memberfunc = []\n",
        "        self.inputs = []\n",
        "        \n",
        "   \n",
        "    \n",
        "    def genfis(self, data, radii):\n",
        "\n",
        "        start_time = time.time()\n",
        "        labels, cluster_center = subclust2(data, radii)\n",
        "        \n",
        "        #print(\"--- %s seconds ---\" % (time.time() - start_time))\n",
        "        n_clusters = len(cluster_center)\n",
        "        \n",
        "        cluster_center = cluster_center[:,:-1]\n",
        "        P = data[:,:-1]\n",
        "        #T = data[:,-1]\n",
        "        maxValue = np.max(P, axis=0)\n",
        "        minValue = np.min(P, axis=0)       \n",
        "     \n",
        "        self.inputs = [fisInput(maxValue[i], minValue[i],cluster_center[:,i]) for i in range(len(maxValue))]\n",
        "        self.rules = cluster_center\n",
        "        self.entrenar(data)\n",
        "\n",
        "    def entrenar(self, data):\n",
        "        P = data[:,:-1]\n",
        "        T = data[:,-1]\n",
        "        #___________________________________________\n",
        "        # MINIMOS CUADRADOS (lineal)\n",
        "        sigma = np.array([(i.maxValue-i.minValue)/np.sqrt(8) for i in self.inputs])\n",
        "        f = [np.prod(gaussmf(P,cluster,sigma),axis=1) for cluster in self.rules]\n",
        "        \n",
        "        nivel_acti = np.array(f).T\n",
        "        #print(\"nivel acti\")\n",
        "        #print(nivel_acti)\n",
        "        sumMu = np.vstack(np.sum(nivel_acti,axis=1))\n",
        "        #print(\"sumMu\")\n",
        "        #print(sumMu)\n",
        "        P = np.c_[P, np.ones(len(P))]\n",
        "        n_vars = P.shape[1]\n",
        "        \n",
        "        orden = np.tile(np.arange(0,n_vars), len(self.rules))\n",
        "        acti = np.tile(nivel_acti,[1,n_vars])\n",
        "        inp = P[:, orden]\n",
        "        \n",
        "        \n",
        "        A = acti*inp/sumMu\n",
        "        \n",
        "        # A = np.zeros((N, 2*n_clusters))\n",
        "        # for jdx in range(n_clusters):\n",
        "        #     for kdx in range(nVar):\n",
        "        #         A[:, jdx+kdx] = nivel_acti[:,jdx]*P[:,kdx]/sumMu\n",
        "        #         A[:, jdx+kdx+1] = nivel_acti[:,jdx]/sumMu\n",
        "        \n",
        "        b = T\n",
        "\n",
        "        solutions, residuals, rank, s = np.linalg.lstsq(A,b,rcond=None)\n",
        "        self.solutions = solutions #.reshape(n_clusters,n_vars)\n",
        "        #print(solutions)\n",
        "        return 0\n",
        "\n",
        "    def evalfis(self, data):\n",
        "        sigma = np.array([(input.maxValue-input.minValue) for input in self.inputs])/np.sqrt(8)\n",
        "        f = [np.prod(gaussmf(data,cluster,sigma),axis=1) for cluster in self.rules]\n",
        "        nivel_acti = np.array(f).T\n",
        "        sumMu = np.vstack(np.sum(nivel_acti,axis=1))\n",
        "         \n",
        "        P = np.c_[data, np.ones(len(data))]\n",
        "        \n",
        "        n_vars = P.shape[1]\n",
        "        n_clusters = len(self.rules)\n",
        "        \n",
        "        orden = np.tile(np.arange(0,n_vars), n_clusters)\n",
        "        acti = np.tile(nivel_acti,[1,n_vars])\n",
        "        inp = P[:, orden]\n",
        "        coef = self.solutions\n",
        "        \n",
        "        return np.sum(acti*inp*coef/sumMu,axis=1)\n",
        "        \n",
        "    \n",
        "    def viewInputs(self):\n",
        "        for input in self.inputs:\n",
        "            input.view()"
      ]
    },
    {
      "cell_type": "code",
      "execution_count": null,
      "metadata": {
        "id": "mY313BDlS-Tb",
        "outputId": "b712b4d8-cae5-415b-8f5f-260ced376505",
        "colab": {
          "base_uri": "https://localhost:8080/",
          "height": 282
        }
      },
      "outputs": [
        {
          "output_type": "execute_result",
          "data": {
            "text/plain": [
              "<matplotlib.collections.PathCollection at 0x7ffad6a11a50>"
            ]
          },
          "metadata": {},
          "execution_count": 82
        },
        {
          "output_type": "display_data",
          "data": {
            "text/plain": [
              "<Figure size 432x288 with 1 Axes>"
            ],
            "image/png": "[encoded data removed]"
          },
          "metadata": {
            "needs_background": "light"
          }
        }
      ],
      "source": [
        "df = pd.read_csv('samplesVDA1.txt', header = None)\n",
        "datos = np.array(df)\n",
        "y = np.array(datos[:,0])\n",
        "x = []\n",
        "cont=0\n",
        "for i in y:\n",
        "  x.append(cont * 2.5)\n",
        "  cont+=1\n",
        "datos = np.array([x,y]).transpose()\n",
        "plt.scatter(datos[:,0],datos[:,1])"
      ]
    },
    {
      "cell_type": "code",
      "source": [
        "v_errors = []\n",
        "v_choose = []\n",
        "\n",
        "fis2 = fis()\n",
        "\n",
        "pruebas = np.array([1.4 ,1.1, 0.7, 0.4]) #Vector con los distintos radios con los que ejecutaremos sugeno\n",
        "\n",
        "for prueba in pruebas:\n",
        "  fis2.genfis(datos, prueba) #Entrenamos con los datos al modelo\n",
        "  r = fis2.evalfis(np.vstack(x)) #Utilizamos el modelo entrenado con los datos que tenia en X\n",
        "  v_errors.append(np.sum((y - r)**2)/len(x)) #Calculamos el error\n",
        "\n",
        "rules=[1,3,5,9] #Graficamente vemos la cantidad de reglas para cada modelo\n",
        "\n",
        "plt.plot(rules,v_errors)"
      ],
      "metadata": {
        "id": "x45ZyLMDMwYK",
        "colab": {
          "base_uri": "https://localhost:8080/",
          "height": 282
        },
        "outputId": "db4a96f0-1ee9-4150-d96d-120f102b80ef"
      },
      "execution_count": null,
      "outputs": [
        {
          "output_type": "execute_result",
          "data": {
            "text/plain": [
              "[<matplotlib.lines.Line2D at 0x7ffad9963550>]"
            ]
          },
          "metadata": {},
          "execution_count": 83
        },
        {
          "output_type": "display_data",
          "data": {
            "text/plain": [
              "<Figure size 432x288 with 1 Axes>"
            ],
            "image/png": "[encoded data removed]"
          },
          "metadata": {
            "needs_background": "light"
          }
        }
      ]
    },
    {
      "cell_type": "code",
      "source": [
        "v_choose = np.divide(v_errors, rules)#Para tener una idea de los errores segun la cantidad de reglas\n",
        "#Utilizamos un modelo con 5 reglas, es decir con radio = 0.7\n",
        "\n",
        "fis2.genfis(datos, 0.7)\n",
        "r = fis2.evalfis(np.vstack(x))\n",
        "v_errors.append(np.sum((y - r)**2)/len(x))\n",
        "\n",
        "plt.plot(datos[:,0],r,color='r')\n",
        "plt.plot(datos[:,0],datos[:,1],color='g')\n",
        "#En rojo graficamos el modelo\n",
        "#En verde graficamos la data extraida"
      ],
      "metadata": {
        "colab": {
          "base_uri": "https://localhost:8080/",
          "height": 282
        },
        "id": "m-JHW_PX3-ta",
        "outputId": "2bfbe527-4640-410e-b633-a9c047fdb105"
      },
      "execution_count": null,
      "outputs": [
        {
          "output_type": "execute_result",
          "data": {
            "text/plain": [
              "[<matplotlib.lines.Line2D at 0x7ffad6dbac10>]"
            ]
          },
          "metadata": {},
          "execution_count": 84
        },
        {
          "output_type": "display_data",
          "data": {
            "text/plain": [
              "<Figure size 432x288 with 1 Axes>"
            ],
            "image/png": "[encoded data removed]"
          },
          "metadata": {
            "needs_background": "light"
          }
        }
      ]
    },
    {
      "cell_type": "code",
      "source": [
        "v_sobremuestreo = np.arange(0,351,20)\n",
        "fis2.genfis(datos, 0.7)\n",
        "r_sobremuestreo = fis2.evalfis(np.vstack(v_sobremuestreo))\n",
        "plt.plot(datos[:,0],r,color='r')\n",
        "plt.plot(v_sobremuestreo,r_sobremuestreo,color='b')"
      ],
      "metadata": {
        "colab": {
          "base_uri": "https://localhost:8080/",
          "height": 282
        },
        "id": "d600J85HPPQO",
        "outputId": "4cff1f27-1361-43f5-8cbb-50dca64afc4f"
      },
      "execution_count": null,
      "outputs": [
        {
          "output_type": "execute_result",
          "data": {
            "text/plain": [
              "[<matplotlib.lines.Line2D at 0x7ffad6322f50>]"
            ]
          },
          "metadata": {},
          "execution_count": 85
        },
        {
          "output_type": "display_data",
          "data": {
            "text/plain": [
              "<Figure size 432x288 with 1 Axes>"
            ],
            "image/png": "[encoded data removed]"
          },
          "metadata": {
            "needs_background": "light"
          }
        }
      ]
    }
  ],
  "metadata": {
    "kernelspec": {
      "display_name": "Python 3.9.13 64-bit (microsoft store)",
      "language": "python",
      "name": "python3"
    },
    "language_info": {
      "codemirror_mode": {
        "name": "ipython",
        "version": 3
      },
      "file_extension": ".py",
      "mimetype": "text/x-python",
      "name": "python",
      "nbconvert_exporter": "python",
      "pygments_lexer": "ipython3",
      "version": "3.9.13"
    },
    "orig_nbformat": 4,
    "vscode": {
      "interpreter": {
        "hash": "5a9dd97664bf91ef683581d1f7f613b6b8bcbe68b67ef643700d803de5486458"
      }
    },
    "colab": {
      "provenance": [],
      "collapsed_sections": []
    }
  },
  "nbformat": 4,
  "nbformat_minor": 0
}