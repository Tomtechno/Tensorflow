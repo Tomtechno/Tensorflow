{
  "cells": [
    {
      "cell_type": "markdown",
      "metadata": {
        "id": "4uBLomMnS06T"
      },
      "source": [
        "<a target=\"_blank\" href=\"https://colab.research.google.com/github/IngCarlaPezzone/tensorflow-1-public/blob/main/C1/W4/assignment/C1W4_Assignment_traducido.ipynb\">\n",
        "  <img src=\"https://colab.research.google.com/assets/colab-badge.svg\" alt=\"Open In Colab\"/>\n",
        "</a>"
      ]
    },
    {
      "cell_type": "code",
      "execution_count": 1,
      "metadata": {
        "id": "3NFuMFYXtwsT",
        "tags": [
          "graded"
        ]
      },
      "outputs": [],
      "source": [
        "import matplotlib.pyplot as plt\n",
        "import tensorflow as tf\n",
        "import numpy as np\n",
        "import os"
      ]
    },
    {
      "cell_type": "code",
      "execution_count": 2,
      "metadata": {
        "id": "uaWTfp5Ox9E-",
        "tags": [
          "graded"
        ],
        "colab": {
          "base_uri": "https://localhost:8080/",
          "height": 253
        },
        "outputId": "39e4a350-ca8c-4ef3-9932-8dc2da64f368"
      },
      "outputs": [
        {
          "output_type": "stream",
          "name": "stdout",
          "text": [
            "Sample happy image:\n"
          ]
        },
        {
          "output_type": "error",
          "ename": "FileNotFoundError",
          "evalue": "ignored",
          "traceback": [
            "\u001b[0;31m---------------------------------------------------------------------------\u001b[0m",
            "\u001b[0;31mFileNotFoundError\u001b[0m                         Traceback (most recent call last)",
            "\u001b[0;32m<ipython-input-2-d661196aab00>\u001b[0m in \u001b[0;36m<module>\u001b[0;34m\u001b[0m\n\u001b[1;32m      6\u001b[0m \u001b[0;34m\u001b[0m\u001b[0m\n\u001b[1;32m      7\u001b[0m \u001b[0mprint\u001b[0m\u001b[0;34m(\u001b[0m\u001b[0;34m\"Sample happy image:\"\u001b[0m\u001b[0;34m)\u001b[0m\u001b[0;34m\u001b[0m\u001b[0;34m\u001b[0m\u001b[0m\n\u001b[0;32m----> 8\u001b[0;31m \u001b[0mplt\u001b[0m\u001b[0;34m.\u001b[0m\u001b[0mimshow\u001b[0m\u001b[0;34m(\u001b[0m\u001b[0mload_img\u001b[0m\u001b[0;34m(\u001b[0m\u001b[0;34mf\"{os.path.join(happy_dir, os.listdir(happy_dir)[0])}\"\u001b[0m\u001b[0;34m)\u001b[0m\u001b[0;34m)\u001b[0m\u001b[0;34m\u001b[0m\u001b[0;34m\u001b[0m\u001b[0m\n\u001b[0m\u001b[1;32m      9\u001b[0m \u001b[0mplt\u001b[0m\u001b[0;34m.\u001b[0m\u001b[0mshow\u001b[0m\u001b[0;34m(\u001b[0m\u001b[0;34m)\u001b[0m\u001b[0;34m\u001b[0m\u001b[0;34m\u001b[0m\u001b[0m\n\u001b[1;32m     10\u001b[0m \u001b[0;34m\u001b[0m\u001b[0m\n",
            "\u001b[0;31mFileNotFoundError\u001b[0m: [Errno 2] No such file or directory: './data/happy/'"
          ]
        }
      ],
      "source": [
        "from tensorflow.keras.preprocessing.image import load_img\n",
        "\n",
        "base_dir = \"./data/\"\n",
        "happy_dir = os.path.join(base_dir, \"happy/\")\n",
        "sad_dir = os.path.join(base_dir, \"sad/\")\n",
        "\n",
        "print(\"Sample happy image:\")\n",
        "plt.imshow(load_img(f\"{os.path.join(happy_dir, os.listdir(happy_dir)[0])}\"))\n",
        "plt.show()\n",
        "\n",
        "print(\"\\nSample sad image:\")\n",
        "plt.imshow(load_img(f\"{os.path.join(sad_dir, os.listdir(sad_dir)[0])}\"))\n",
        "plt.show()\n"
      ]
    },
    {
      "cell_type": "code",
      "execution_count": null,
      "metadata": {
        "tags": [
          "graded"
        ],
        "id": "goJLGD3FS06Y"
      },
      "outputs": [],
      "source": [
        "from tensorflow.keras.preprocessing.image import img_to_array\n",
        "\n",
        "sample_image  = load_img(f\"{os.path.join(happy_dir, os.listdir(happy_dir)[0])}\")\n",
        "sample_array = img_to_array(sample_image)\n",
        "\n",
        "print(f\"Each image has shape: {sample_array.shape}\")\n",
        "print(f\"The maximum pixel value used is: {np.max(sample_array)}\")"
      ]
    },
    {
      "cell_type": "code",
      "execution_count": null,
      "metadata": {
        "id": "X0UOFLauzIW4",
        "tags": [
          "graded"
        ]
      },
      "outputs": [],
      "source": [
        "class myCallback(tf.keras.callbacks.Callback):\n",
        "    def on_epoch_end(self, epoch, logs={}):\n",
        "        if logs.get('accuracy') is not None and logs.get('accuracy') > 0.999:\n",
        "            print(\"\\nReached 99.9% accuracy so cancelling training!\")\n",
        "            self.model.stop_training = True"
      ]
    },
    {
      "cell_type": "code",
      "execution_count": null,
      "metadata": {
        "cellView": "code",
        "id": "rrGO8ObGzqht",
        "tags": [
          "graded"
        ]
      },
      "outputs": [],
      "source": [
        "from tensorflow.keras.preprocessing.image import ImageDataGenerator\n",
        "\n",
        "def image_generator():\n",
        "    train_datagen = ImageDataGenerator(rescale=1/255)\n",
        "    # Especifica el método para cargar las imágenes desde un directorio y pasa los argumentos adecuados:\n",
        "    # - directory: debe ser una ruta relativa al directorio que contiene los datos\n",
        "    # - targe_size: establecerlo igual a la resolución de cada imagen (excluyendo la dimensión de color)\n",
        "    # - batch_size: número de imágenes que el generador produce cuando se le pide un siguiente lote. Establézcalo en 10.\n",
        "    # - class_mode: Cómo se representan las etiquetas. Debe ser uno de \"binario\", \"categórico\" o \"disperso\".\n",
        "    # Escoge el que mejor se adapte aquí dado que las etiquetas van a ser etiquetas binarias 1D.\n",
        "    train_generator = train_datagen.flow_from_directory(directory   = base_dir,\n",
        "                                                        target_size = (150, 150),\n",
        "                                                        batch_size  = 10,\n",
        "                                                        class_mode  = 'binary')\n",
        "    return train_generator"
      ]
    },
    {
      "cell_type": "code",
      "execution_count": null,
      "metadata": {
        "id": "L9uxJFQb1nOx",
        "tags": [
          "graded"
        ]
      },
      "outputs": [],
      "source": [
        "# Guarda tu generador en una variable\n",
        "gen = image_generator()"
      ]
    },
    {
      "cell_type": "code",
      "execution_count": null,
      "metadata": {
        "id": "eUcNTpra1FK0",
        "tags": [
          "graded"
        ]
      },
      "outputs": [],
      "source": [
        "from tensorflow.keras import optimizers, losses\n",
        "\n",
        "def train_happy_sad_model(train_generator):\n",
        "    callbacks = myCallback()\n",
        "    model = tf.keras.models.Sequential([\n",
        "        tf.keras.layers.Conv2D(16, (3,3), activation='relu', input_shape=(150, 150, 3)),\n",
        "        tf.keras.layers.MaxPooling2D(2, 2),\n",
        "        tf.keras.layers.Conv2D(32, (3,3), activation='relu'),\n",
        "        tf.keras.layers.MaxPooling2D(2,2),\n",
        "        tf.keras.layers.Conv2D(64, (3,3), activation='relu'),\n",
        "        tf.keras.layers.MaxPooling2D(2,2),\n",
        "        tf.keras.layers.Conv2D(64, (3,3), activation='relu'),\n",
        "        tf.keras.layers.MaxPooling2D(2,2),\n",
        "        tf.keras.layers.Conv2D(64, (3,3), activation='relu'),\n",
        "        tf.keras.layers.MaxPooling2D(2,2),\n",
        "        tf.keras.layers.Flatten(),\n",
        "        tf.keras.layers.Dense(512, activation='relu'),\n",
        "        tf.keras.layers.Dense(1, activation='sigmoid'),\n",
        "    ])\n",
        "    model.compile(loss=losses.binary_crossentropy,\n",
        "                  optimizer=optimizers.RMSprop(learning_rate=0.001),\n",
        "                  metrics=['accuracy']) \n",
        "    history = model.fit(xm= train_generator,\n",
        "                        epochsm= 20,\n",
        "                        callbacks = [callbacks]) \n",
        "    return history"
      ]
    },
    {
      "cell_type": "code",
      "execution_count": null,
      "metadata": {
        "id": "sSaPPUe_z_OU",
        "tags": [
          "graded"
        ]
      },
      "outputs": [],
      "source": [
        "hist = train_happy_sad_model(train_generator=gen)"
      ]
    },
    {
      "cell_type": "code",
      "execution_count": null,
      "metadata": {
        "id": "0imravDn0Ajz",
        "tags": [
          "graded"
        ]
      },
      "outputs": [],
      "source": [
        "print(f\"Your model reached the desired accuracy after {len(hist.epoch)} epochs\")\n",
        "if not \"accuracy\" in hist.model.metrics_names:\n",
        "    print(\"Use 'accuracy' as metric when compiling your model.\")\n",
        "else:\n",
        "    print(\"The metric was correctly defined.\")"
      ]
    }
  ],
  "metadata": {
    "jupytext": {
      "main_language": "python"
    },
    "kernelspec": {
      "display_name": "Python 3",
      "language": "python",
      "name": "python3"
    },
    "language_info": {
      "codemirror_mode": {
        "name": "ipython",
        "version": 3
      },
      "file_extension": ".py",
      "mimetype": "text/x-python",
      "name": "python",
      "nbconvert_exporter": "python",
      "pygments_lexer": "ipython3",
      "version": "3.7.3"
    },
    "colab": {
      "provenance": []
    }
  },
  "nbformat": 4,
  "nbformat_minor": 0
}